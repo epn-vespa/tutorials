{
 "cells": [
  {
   "cell_type": "markdown",
   "id": "3bff6f22",
   "metadata": {},
   "source": [
    "## Query all EPN-TAP services"
   ]
  },
  {
   "cell_type": "markdown",
   "id": "9f0667ce",
   "metadata": {},
   "source": [
    "We show here how to send the same EPN-TAP query to all existing EPN-TAP services. This will retrieve all results from many independent services / institutes, including those unknown to the user."
   ]
  },
  {
   "cell_type": "markdown",
   "id": "2949a0d9",
   "metadata": {},
   "source": [
    "EPN-TAP services are first identified from the IVOA registry. Then the query is sent to all of them in sequence."
   ]
  },
  {
   "cell_type": "markdown",
   "id": "a554f163",
   "metadata": {},
   "source": [
    "### Grab a list of all EPN-TAP services from the registry"
   ]
  },
  {
   "cell_type": "code",
   "execution_count": 1,
   "id": "82c90a59",
   "metadata": {},
   "outputs": [],
   "source": [
    "import pyvo as vo\n",
    "from matplotlib import pyplot as plt\n",
    "from astropy.table import Table\n",
    "from astropy.table import vstack\n",
    "import urllib\n",
    "from astroquery.utils.tap.core import TapPlus  "
   ]
  },
  {
   "cell_type": "code",
   "execution_count": 2,
   "id": "d01266b6",
   "metadata": {},
   "outputs": [],
   "source": [
    "query = \"SELECT table_name, access_url, ivoid FROM (SELECT ivoid, table_name, table_utype FROM rr.res_table WHERE table_utype LIKE 'ivo://vopdc.obspm/std/epncore%' OR table_utype LIKE 'ivo://ivoa.net/std/epntap#table-2.%' OR table_utype='ivo.//vopdc.obspm/std/epncore#schema-2.0' ) AS epntables NATURAL JOIN rr.capability NATURAL JOIN rr.interface WHERE standard_id = 'ivo://ivoa.net/std/tap' AND intf_role='std'\"\n"
   ]
  },
  {
   "cell_type": "code",
   "execution_count": 3,
   "id": "779d26d2",
   "metadata": {},
   "outputs": [],
   "source": [
    "registry_url = \"http://voparis-rr.obspm.fr/tap\""
   ]
  },
  {
   "cell_type": "code",
   "execution_count": 4,
   "id": "662ef537",
   "metadata": {},
   "outputs": [
    {
     "data": {
      "text/html": [
       "<div><i>Table length=249</i>\n",
       "<table id=\"table4426342752\" class=\"table-striped table-bordered table-condensed\">\n",
       "<thead><tr><th>table_name</th><th>access_url</th><th>ivoid</th></tr></thead>\n",
       "<thead><tr><th>object</th><th>object</th><th>object</th></tr></thead>\n",
       "<tr><td>thmsm.epn_core</td><td>http://dorotka.ufa.cas.cz//tap</td><td>ivo://iap/tap</td></tr>\n",
       "<tr><td>cpstasm.epn_core</td><td>http://dorotka.ufa.cas.cz//tap</td><td>ivo://iap/tap</td></tr>\n",
       "<tr><td>omega_maps.epn_core</td><td>https://idoc-dachs.ias.u-psud.fr/tap</td><td>ivo://idoc/tap</td></tr>\n",
       "<tr><td>omega_cubes.epn_core</td><td>https://idoc-dachs.ias.u-psud.fr/tap</td><td>ivo://idoc/tap</td></tr>\n",
       "<tr><td>gaia_dem.epn_core</td><td>https://idoc-dachs.ias.u-psud.fr/tap</td><td>ivo://idoc/tap</td></tr>\n",
       "<tr><td>eit_syn.epn_core</td><td>https://idoc-dachs.ias.u-psud.fr/tap</td><td>ivo://idoc/tap</td></tr>\n",
       "<tr><td>vvex.epn_core</td><td>http://voparis-tap-planeto.obspm.fr/tap</td><td>ivo://padc.obspm.planeto/tap</td></tr>\n",
       "<tr><td>vims_satellites.epn_core</td><td>http://voparis-tap-planeto.obspm.fr/tap</td><td>ivo://padc.obspm.planeto/tap</td></tr>\n",
       "<tr><td>tnosarecool.epn_core</td><td>http://voparis-tap-planeto.obspm.fr/tap</td><td>ivo://padc.obspm.planeto/tap</td></tr>\n",
       "<tr><td>titan_profiles.epn_core</td><td>http://voparis-tap-planeto.obspm.fr/tap</td><td>ivo://padc.obspm.planeto/tap</td></tr>\n",
       "<tr><td>spectro_planets.epn_core</td><td>http://voparis-tap-planeto.obspm.fr/tap</td><td>ivo://padc.obspm.planeto/tap</td></tr>\n",
       "<tr><td>spectro_asteroids.epn_core</td><td>http://voparis-tap-planeto.obspm.fr/tap</td><td>ivo://padc.obspm.planeto/tap</td></tr>\n",
       "<tr><td>planets.epn_core</td><td>http://voparis-tap-planeto.obspm.fr/tap</td><td>ivo://padc.obspm.planeto/tap</td></tr>\n",
       "<tr><td>moonsprop.epn_core</td><td>http://voparis-tap-planeto.obspm.fr/tap</td><td>ivo://padc.obspm.planeto/tap</td></tr>\n",
       "<tr><td>meteor_showers.epn_core</td><td>http://voparis-tap-planeto.obspm.fr/tap</td><td>ivo://padc.obspm.planeto/tap</td></tr>\n",
       "<tr><td>m4ast.epn_core</td><td>http://voparis-tap-planeto.obspm.fr/tap</td><td>ivo://padc.obspm.planeto/tap</td></tr>\n",
       "<tr><td>iks.epn_core</td><td>http://voparis-tap-planeto.obspm.fr/tap</td><td>ivo://padc.obspm.planeto/tap</td></tr>\n",
       "<tr><td>hst_planeto.epn_core</td><td>http://voparis-tap-planeto.obspm.fr/tap</td><td>ivo://padc.obspm.planeto/tap</td></tr>\n",
       "<tr><td>...</td><td>...</td><td>...</td></tr>\n",
       "<tr><td>mp3c_best_epn.epn_core</td><td>https://dachs.oca.eu/tap</td><td>ivo://oca/tap</td></tr>\n",
       "<tr><td>uset_sunspot_group.epn_core</td><td>http://vo-tap.oma.be/tap</td><td>ivo://ksb-orb.dc/tap</td></tr>\n",
       "<tr><td>uset_sunspot_drawing.epn_core</td><td>http://vo-tap.oma.be/tap</td><td>ivo://ksb-orb.dc/tap</td></tr>\n",
       "<tr><td>rob_spoca_ch.epn_core</td><td>http://vo-tap.oma.be/tap</td><td>ivo://ksb-orb.dc/tap</td></tr>\n",
       "<tr><td>pretharsis.epn_core</td><td>https://dachs-vo.ipsl.fr/tap</td><td>ivo://geops.ipsl/tap</td></tr>\n",
       "<tr><td>exotopo.epn_core</td><td>https://dachs-vo.ipsl.fr/tap</td><td>ivo://geops.ipsl/tap</td></tr>\n",
       "<tr><td>mpc.epn_core</td><td>http://dc.zah.uni-heidelberg.de/tap</td><td>ivo://org.gavo.dc/tap</td></tr>\n",
       "<tr><td>vir.epn_core</td><td>http://vo-node1.iaps.inaf.it/tap</td><td>ivo://ia2.inaf.it/iaps/tap</td></tr>\n",
       "<tr><td>ndcs.epn_core</td><td>http://vo-node1.iaps.inaf.it/tap</td><td>ivo://ia2.inaf.it/iaps/tap</td></tr>\n",
       "<tr><td>cemls.epn_core</td><td>http://vo-node1.iaps.inaf.it/tap</td><td>ivo://ia2.inaf.it/iaps/tap</td></tr>\n",
       "<tr><td>vir.epn_core</td><td>http://vo-node1.iaps.inaf.it/tap</td><td>ivo://ia2.inaf.it/tap</td></tr>\n",
       "<tr><td>ndcs.epn_core</td><td>http://vo-node1.iaps.inaf.it/tap</td><td>ivo://ia2.inaf.it/tap</td></tr>\n",
       "<tr><td>cemls.epn_core</td><td>http://vo-node1.iaps.inaf.it/tap</td><td>ivo://ia2.inaf.it/tap</td></tr>\n",
       "<tr><td>climso.epn_core</td><td>http://climso.irap.omp.eu/__system__/tap/run/tap</td><td>ivo://ov-gso/climso</td></tr>\n",
       "<tr><td>amdadb.epn_core</td><td>http://cdpp-epntap.irap.omp.eu/__system__/tap/run/tap</td><td>ivo://cdpp/amda</td></tr>\n",
       "<tr><td>illu67p.epn_core</td><td>http://cdpp-epntap.irap.omp.eu/__system__/tap/run/tap</td><td>ivo://cdpp/illu67p</td></tr>\n",
       "<tr><td>transplanet.epn_core</td><td>http://cdpp-epntap.irap.omp.eu/__system__/tap/run/tap</td><td>ivo://cdpp/transplanet</td></tr>\n",
       "<tr><td>spicam.epn_core</td><td>http://vo.projet.latmos.ipsl.fr/tap</td><td>ivo://latmos.ipsl/tap</td></tr>\n",
       "<tr><td>abs_cs.epn_core</td><td>http://spectrum.iaa.es/tap</td><td>ivo://spectrum.iaa/tap</td></tr>\n",
       "</table></div>"
      ],
      "text/plain": [
       "<Table length=249>\n",
       "          table_name                                access_url                                 ivoid            \n",
       "            object                                    object                                   object           \n",
       "----------------------------- ----------------------------------------------------- ----------------------------\n",
       "               thmsm.epn_core                        http://dorotka.ufa.cas.cz//tap                ivo://iap/tap\n",
       "             cpstasm.epn_core                        http://dorotka.ufa.cas.cz//tap                ivo://iap/tap\n",
       "          omega_maps.epn_core                  https://idoc-dachs.ias.u-psud.fr/tap               ivo://idoc/tap\n",
       "         omega_cubes.epn_core                  https://idoc-dachs.ias.u-psud.fr/tap               ivo://idoc/tap\n",
       "            gaia_dem.epn_core                  https://idoc-dachs.ias.u-psud.fr/tap               ivo://idoc/tap\n",
       "             eit_syn.epn_core                  https://idoc-dachs.ias.u-psud.fr/tap               ivo://idoc/tap\n",
       "                vvex.epn_core               http://voparis-tap-planeto.obspm.fr/tap ivo://padc.obspm.planeto/tap\n",
       "     vims_satellites.epn_core               http://voparis-tap-planeto.obspm.fr/tap ivo://padc.obspm.planeto/tap\n",
       "         tnosarecool.epn_core               http://voparis-tap-planeto.obspm.fr/tap ivo://padc.obspm.planeto/tap\n",
       "      titan_profiles.epn_core               http://voparis-tap-planeto.obspm.fr/tap ivo://padc.obspm.planeto/tap\n",
       "     spectro_planets.epn_core               http://voparis-tap-planeto.obspm.fr/tap ivo://padc.obspm.planeto/tap\n",
       "   spectro_asteroids.epn_core               http://voparis-tap-planeto.obspm.fr/tap ivo://padc.obspm.planeto/tap\n",
       "             planets.epn_core               http://voparis-tap-planeto.obspm.fr/tap ivo://padc.obspm.planeto/tap\n",
       "           moonsprop.epn_core               http://voparis-tap-planeto.obspm.fr/tap ivo://padc.obspm.planeto/tap\n",
       "      meteor_showers.epn_core               http://voparis-tap-planeto.obspm.fr/tap ivo://padc.obspm.planeto/tap\n",
       "               m4ast.epn_core               http://voparis-tap-planeto.obspm.fr/tap ivo://padc.obspm.planeto/tap\n",
       "                 iks.epn_core               http://voparis-tap-planeto.obspm.fr/tap ivo://padc.obspm.planeto/tap\n",
       "         hst_planeto.epn_core               http://voparis-tap-planeto.obspm.fr/tap ivo://padc.obspm.planeto/tap\n",
       "                          ...                                                   ...                          ...\n",
       "       mp3c_best_epn.epn_core                              https://dachs.oca.eu/tap                ivo://oca/tap\n",
       "  uset_sunspot_group.epn_core                              http://vo-tap.oma.be/tap         ivo://ksb-orb.dc/tap\n",
       "uset_sunspot_drawing.epn_core                              http://vo-tap.oma.be/tap         ivo://ksb-orb.dc/tap\n",
       "        rob_spoca_ch.epn_core                              http://vo-tap.oma.be/tap         ivo://ksb-orb.dc/tap\n",
       "          pretharsis.epn_core                          https://dachs-vo.ipsl.fr/tap         ivo://geops.ipsl/tap\n",
       "             exotopo.epn_core                          https://dachs-vo.ipsl.fr/tap         ivo://geops.ipsl/tap\n",
       "                 mpc.epn_core                   http://dc.zah.uni-heidelberg.de/tap        ivo://org.gavo.dc/tap\n",
       "                 vir.epn_core                      http://vo-node1.iaps.inaf.it/tap   ivo://ia2.inaf.it/iaps/tap\n",
       "                ndcs.epn_core                      http://vo-node1.iaps.inaf.it/tap   ivo://ia2.inaf.it/iaps/tap\n",
       "               cemls.epn_core                      http://vo-node1.iaps.inaf.it/tap   ivo://ia2.inaf.it/iaps/tap\n",
       "                 vir.epn_core                      http://vo-node1.iaps.inaf.it/tap        ivo://ia2.inaf.it/tap\n",
       "                ndcs.epn_core                      http://vo-node1.iaps.inaf.it/tap        ivo://ia2.inaf.it/tap\n",
       "               cemls.epn_core                      http://vo-node1.iaps.inaf.it/tap        ivo://ia2.inaf.it/tap\n",
       "              climso.epn_core      http://climso.irap.omp.eu/__system__/tap/run/tap          ivo://ov-gso/climso\n",
       "              amdadb.epn_core http://cdpp-epntap.irap.omp.eu/__system__/tap/run/tap              ivo://cdpp/amda\n",
       "             illu67p.epn_core http://cdpp-epntap.irap.omp.eu/__system__/tap/run/tap           ivo://cdpp/illu67p\n",
       "         transplanet.epn_core http://cdpp-epntap.irap.omp.eu/__system__/tap/run/tap       ivo://cdpp/transplanet\n",
       "              spicam.epn_core                   http://vo.projet.latmos.ipsl.fr/tap        ivo://latmos.ipsl/tap\n",
       "              abs_cs.epn_core                            http://spectrum.iaa.es/tap       ivo://spectrum.iaa/tap"
      ]
     },
     "execution_count": 4,
     "metadata": {},
     "output_type": "execute_result"
    }
   ],
   "source": [
    "services = TapPlus(registry_url)\n",
    "job = services.launch_job(query)\n",
    "r1 = job.get_results()\n",
    "# lists all published EPN-TAP services:\n",
    "r1\n"
   ]
  },
  {
   "cell_type": "markdown",
   "id": "8fb09a31",
   "metadata": {},
   "source": [
    "**This lists the available services; table name and server url are printed for the first entry**"
   ]
  },
  {
   "cell_type": "code",
   "execution_count": 5,
   "id": "b1aeebb7",
   "metadata": {},
   "outputs": [
    {
     "name": "stdout",
     "output_type": "stream",
     "text": [
      "          table_name         \n",
      "-----------------------------\n",
      "               thmsm.epn_core\n",
      "             cpstasm.epn_core\n",
      "          omega_maps.epn_core\n",
      "         omega_cubes.epn_core\n",
      "            gaia_dem.epn_core\n",
      "             eit_syn.epn_core\n",
      "                vvex.epn_core\n",
      "     vims_satellites.epn_core\n",
      "         tnosarecool.epn_core\n",
      "      titan_profiles.epn_core\n",
      "     spectro_planets.epn_core\n",
      "   spectro_asteroids.epn_core\n",
      "             planets.epn_core\n",
      "           moonsprop.epn_core\n",
      "      meteor_showers.epn_core\n",
      "               m4ast.epn_core\n",
      "                 iks.epn_core\n",
      "         hst_planeto.epn_core\n",
      "           exoplanet.epn_core\n",
      "                          ...\n",
      "       mp3c_best_epn.epn_core\n",
      "  uset_sunspot_group.epn_core\n",
      "uset_sunspot_drawing.epn_core\n",
      "        rob_spoca_ch.epn_core\n",
      "          pretharsis.epn_core\n",
      "             exotopo.epn_core\n",
      "                 mpc.epn_core\n",
      "                 vir.epn_core\n",
      "                ndcs.epn_core\n",
      "               cemls.epn_core\n",
      "                 vir.epn_core\n",
      "                ndcs.epn_core\n",
      "               cemls.epn_core\n",
      "              climso.epn_core\n",
      "              amdadb.epn_core\n",
      "             illu67p.epn_core\n",
      "         transplanet.epn_core\n",
      "              spicam.epn_core\n",
      "              abs_cs.epn_core\n",
      "Length = 249 rows\n",
      "thmsm.epn_core\n",
      "http://dorotka.ufa.cas.cz//tap\n"
     ]
    }
   ],
   "source": [
    "# accessing elt: \n",
    "print(r1['table_name'])\n",
    "print(r1['table_name'][0])\n",
    "print(r1['access_url'][0])\n"
   ]
  },
  {
   "cell_type": "markdown",
   "id": "decc550b",
   "metadata": {},
   "source": [
    "### Sending a simple query to all services"
   ]
  },
  {
   "cell_type": "markdown",
   "id": "7409fabf",
   "metadata": {},
   "source": [
    "Here we're looking for values of an optional parameter. This will just print the table name if the parameter is not provided, or the number of values otherwise."
   ]
  },
  {
   "cell_type": "markdown",
   "id": "dd193450",
   "metadata": {},
   "source": [
    "**The query is a bit long to execute, due to the large number of EPN-TAP services published in the registry (in January 2024)**"
   ]
  },
  {
   "cell_type": "code",
   "execution_count": 6,
   "id": "8c5b5cab",
   "metadata": {},
   "outputs": [
    {
     "name": "stdout",
     "output_type": "stream",
     "text": [
      "thmsm.epn_core\n",
      "cpstasm.epn_core\n",
      "omega_maps.epn_core\n",
      "omega_cubes.epn_core\n",
      "eit_syn.epn_core\n",
      "vvex.epn_core\n",
      "vims_satellites.epn_core\n",
      "tnosarecool.epn_core\n",
      "titan_profiles.epn_core\n",
      "spectro_planets.epn_core\n",
      "spectro_asteroids.epn_core\n",
      "planets.epn_core\n",
      "moonsprop.epn_core\n",
      "meteor_showers.epn_core\n",
      "m4ast.epn_core\n",
      "iks.epn_core\n",
      "hst_planeto.epn_core\n",
      "exoplanet.epn_core\n",
      "dynastvo.epn_core\n",
      "crism_speclib.epn_core\n",
      "bdip.epn_core\n",
      "basecom.epn_core\n",
      "apis.epn_core\n",
      "hfc1t3.epn_core\n",
      "bass2000.epn_core\n",
      "mdisc.epn_core\n",
      "jasmin.epn_core\n",
      "hrsc3nd.epn_core\n",
      "usgs_wms.epn_core\n",
      "planmap.epn_core\n",
      "planetserver_crism.epn_core\n",
      "mars_craters_lagain.epn_core\n",
      "mars_craters.epn_core\n",
      "sbnaf.epn_core\n",
      "vcd.epn_core\n",
      "mcd.epn_core\n",
      "mars_dust.epn_core\n",
      "sshade_spectra.epn_core\n",
      "mp3c_best_epn.epn_core\n",
      "pvol.epn_core\n",
      "rwcalerts.epn_core\n",
      "lofar_jupiter_raw.epn_core\n",
      "lofar_jupiter.epn_core\n",
      "ionosondes.epn_core\n",
      "cassini_rpws.epn_core\n",
      "mp3c_best_epn.epn_core\n",
      "uset_sunspot_group.epn_core\n",
      "uset_sunspot_drawing.epn_core\n",
      "rob_spoca_ch.epn_core\n",
      "pretharsis.epn_core\n",
      "exotopo.epn_core\n",
      "mpc.epn_core\n",
      "climso.epn_core\n",
      "amdadb.epn_core\n",
      "illu67p.epn_core\n",
      "transplanet.epn_core\n",
      "spicam.epn_core\n",
      "abs_cs.epn_core\n"
     ]
    }
   ],
   "source": [
    "for ii in range((r1['table_name']).shape[0]):\n",
    "\tStable_name = r1['table_name'][ii]\n",
    "\tService_url = r1['access_url'][ii]\n",
    "\tquery2 = \"SELECT distinct spatial_origin FROM \" + Stable_name\n",
    "\tanswers = TapPlus(Service_url)\n",
    "\t# remove one uncorrect entry\n",
    "\tif r1['access_url'][ii] == 'http://vo-node1.iaps.inaf.it/tap': \n",
    "\t\tcontinue\n",
    "\t# skip the largest server\n",
    "\tif r1['access_url'][ii] == 'https://vo-pds-ppi.igpp.ucla.edu/tap': \n",
    "\t\tcontinue\n",
    "\ttry:\n",
    "\t\tjob2 = answers.launch_job(query2)\n",
    "\t\tr2 = job2.get_results()\n",
    "\t\tStable_name, r2[0][0]\n",
    "\texcept:\n",
    "\t\tprint(Stable_name) # command required here\n"
   ]
  },
  {
   "cell_type": "markdown",
   "id": "239cb42d",
   "metadata": {},
   "source": [
    "### Sending a more realistic query to all services"
   ]
  },
  {
   "cell_type": "code",
   "execution_count": 7,
   "id": "268c6fe5",
   "metadata": {},
   "outputs": [],
   "source": [
    "# first define a result table \n",
    "# actually doesn't work - all grouped in first column later\n",
    "d = {\n",
    "    'service_title': [''],\n",
    "    'granule_uid': [''],\n",
    "    'time_min': [0.],\n",
    "    'solar_longitude_min': [0.],\n",
    "    'solar_longitude_max': [0.]\n",
    "}\n",
    "import pandas as pd\n",
    "df = pd.DataFrame(d)"
   ]
  },
  {
   "cell_type": "markdown",
   "id": "01446a07",
   "metadata": {},
   "source": [
    "Then sends a more realistic query to all services and concatenate results - we're asking for any data during a specific season on Mars, whatever the year"
   ]
  },
  {
   "cell_type": "code",
   "execution_count": 8,
   "id": "a9b15fa1",
   "metadata": {},
   "outputs": [
    {
     "name": "stdout",
     "output_type": "stream",
     "text": [
      "thmsm.epn_core\n",
      "cpstasm.epn_core\n",
      "omega_maps.epn_core\n",
      "omega_cubes.epn_core\n",
      "gaia_dem.epn_core\n",
      "eit_syn.epn_core\n",
      "vvex.epn_core 0\n",
      "vims_satellites.epn_core\n",
      "tnosarecool.epn_core\n",
      "titan_profiles.epn_core\n",
      "spectro_planets.epn_core\n",
      "spectro_asteroids.epn_core\n",
      "planets.epn_core\n",
      "moonsprop.epn_core\n",
      "meteor_showers.epn_core 2\n",
      "m4ast.epn_core\n",
      "iks.epn_core\n",
      "hst_planeto.epn_core\n",
      "exoplanet.epn_core\n",
      "dynastvo.epn_core\n",
      "crism_speclib.epn_core\n",
      "bdip.epn_core\n",
      "basecom.epn_core\n",
      "apis.epn_core\n",
      "hfc1t3.epn_core\n",
      "hfc1ar_majtrim.epn_core\n",
      "hfc1ar.epn_core\n",
      "bass2000.epn_core\n",
      "mdisc.epn_core\n",
      "jasmin.epn_core\n",
      "hrsc3nd.epn_core 169\n",
      "usgs_wms.epn_core\n"
     ]
    },
    {
     "name": "stderr",
     "output_type": "stream",
     "text": [
      "WARNING: MergeConflictWarning: In merged column 'granule_uid' the 'description' attribute does not match (Internal table row index, which must be unique within the table. Can be alphanumeric. != Internal table row index Unique ID in data service, also in v2. Can be alphanumeric.).  Using Internal table row index Unique ID in data service, also in v2. Can be alphanumeric. for merged output [astropy.utils.metadata]\n",
      "WARNING: MergeConflictWarning: Cannot merge meta key 'ucd' types <class 'str'> and <class 'str'>, choosing ucd='time.start' [astropy.utils.metadata]\n",
      "WARNING: MergeConflictWarning: In merged column 'time_min' the 'description' attribute does not match (Acquisition start time (in JD), as UTC at time_refposition != Acquisition start time (in JD)).  Using Acquisition start time (in JD) for merged output [astropy.utils.metadata]\n",
      "WARNING: MergeConflictWarning: In merged column 'solar_longitude_min' the 'description' attribute does not match (Min Solar longitude Ls (location on orbit / season) != Solar longitude (minimum)).  Using Solar longitude (minimum) for merged output [astropy.utils.metadata]\n",
      "WARNING: MergeConflictWarning: In merged column 'solar_longitude_max' the 'description' attribute does not match (Max Solar longitude Ls (location on orbit / season) != Solar longitude (maximum)).  Using Solar longitude (maximum) for merged output [astropy.utils.metadata]\n",
      "WARNING: MergeConflictWarning: Cannot merge meta key 'utype' types <class 'str'> and <class 'str'>, choosing utype='ivo://vopdc.obspm/std/epncore#schema-2.0' [astropy.utils.metadata]\n",
      "WARNING: MergeConflictWarning: Cannot merge meta key 'description' types <class 'str'> and <class 'str'>, choosing description='EPN-TAP access to HRSC level 3 panchromatic image data' [astropy.utils.metadata]\n"
     ]
    },
    {
     "name": "stdout",
     "output_type": "stream",
     "text": [
      "planmap.epn_core\n"
     ]
    },
    {
     "name": "stderr",
     "output_type": "stream",
     "text": [
      "WARNING: UnitsWarning: The unit 'pix' has been deprecated in the VOUnit standard. [astropy.units.format.utils]\n"
     ]
    },
    {
     "name": "stdout",
     "output_type": "stream",
     "text": [
      "planetserver_crism.epn_core 1244\n"
     ]
    },
    {
     "name": "stderr",
     "output_type": "stream",
     "text": [
      "WARNING: MergeConflictWarning: In merged column 'granule_uid' the 'description' attribute does not match (Internal table row index Unique ID in data service, also in v2. Can be alphanumeric. != Internal table row index, which must be unique within the table. Can be alphanumeric.).  Using Internal table row index, which must be unique within the table. Can be alphanumeric. for merged output [astropy.utils.metadata]\n",
      "WARNING: MergeConflictWarning: Cannot merge meta key 'ucd' types <class 'str'> and <class 'str'>, choosing ucd='time.start;obs' [astropy.utils.metadata]\n",
      "WARNING: MergeConflictWarning: In merged column 'time_min' the 'description' attribute does not match (Acquisition start time (in JD) != Acquisition start time (in JD), as UTC at time_refposition).  Using Acquisition start time (in JD), as UTC at time_refposition for merged output [astropy.utils.metadata]\n",
      "WARNING: MergeConflictWarning: Cannot merge meta key 'ucd' types <class 'str'> and <class 'str'>, choosing ucd='pos.posAng;pos.heliocentric;stat.min' [astropy.utils.metadata]\n",
      "WARNING: MergeConflictWarning: In merged column 'solar_longitude_min' the 'description' attribute does not match (Solar longitude (minimum) != Min Solar longitude Ls (location on orbit / season)).  Using Min Solar longitude Ls (location on orbit / season) for merged output [astropy.utils.metadata]\n",
      "WARNING: MergeConflictWarning: Cannot merge meta key 'ucd' types <class 'str'> and <class 'str'>, choosing ucd='pos.posAng;pos.heliocentric;stat.max' [astropy.utils.metadata]\n",
      "WARNING: MergeConflictWarning: In merged column 'solar_longitude_max' the 'description' attribute does not match (Solar longitude (maximum) != Max Solar longitude Ls (location on orbit / season)).  Using Max Solar longitude Ls (location on orbit / season) for merged output [astropy.utils.metadata]\n",
      "WARNING: MergeConflictWarning: Cannot merge meta key 'utype' types <class 'str'> and <class 'str'>, choosing utype='ivo://ivoa.net/std/epntap#table-2.0' [astropy.utils.metadata]\n",
      "WARNING: MergeConflictWarning: Cannot merge meta key 'description' types <class 'str'> and <class 'str'>, choosing description='PlanetServer2/CRISM data: http://access.planetserver.eu/' [astropy.utils.metadata]\n"
     ]
    },
    {
     "name": "stdout",
     "output_type": "stream",
     "text": [
      "mars_craters_lagain.epn_core\n",
      "mars_craters.epn_core\n",
      "sbnaf.epn_core\n",
      "vcd.epn_core\n",
      "mcd.epn_core 0\n",
      "mars_dust.epn_core\n"
     ]
    },
    {
     "name": "stderr",
     "output_type": "stream",
     "text": [
      "WARNING: MergeConflictWarning: Cannot merge meta key 'ucd' types <class 'str'> and <class 'str'>, choosing ucd='pos.ecliptic.lon;pos.heliocentric;stat.min' [astropy.utils.metadata]\n",
      "WARNING: MergeConflictWarning: Cannot merge meta key 'ucd' types <class 'str'> and <class 'str'>, choosing ucd='pos.ecliptic.lon;pos.heliocentric;stat.max' [astropy.utils.metadata]\n",
      "WARNING: MergeConflictWarning: Cannot merge meta key 'description' types <class 'str'> and <class 'str'>, choosing description='The database contains some outputs of the MCD for all the scenarios\\navailable, at different positions of latitude and longitude. These MCD\\noutputs are provided as Votables containing profiles of temperatures,\\npressures, density and abundances of O2 and O3 for altitudes between 0\\nand 249.5 km from the surface.' [astropy.utils.metadata]\n"
     ]
    },
    {
     "name": "stdout",
     "output_type": "stream",
     "text": [
      "sshade_spectra.epn_core\n",
      "mp3c_best_epn.epn_core\n",
      "pvol.epn_core\n",
      "rwcalerts.epn_core\n",
      "lofar_jupiter_raw.epn_core\n",
      "lofar_jupiter.epn_core\n",
      "ionosondes.epn_core\n",
      "lars.epn_core\n",
      "gris.epn_core\n",
      "chrotel.epn_core\n",
      "cassini_rpws.epn_core\n",
      "soir.epn_core 0\n",
      "nomad.epn_core 371\n",
      "gem_mars.epn_core 2000\n",
      "mp3c_best_epn.epn_core\n",
      "uset_sunspot_group.epn_core\n",
      "uset_sunspot_drawing.epn_core\n",
      "rob_spoca_ch.epn_core\n",
      "pretharsis.epn_core\n",
      "exotopo.epn_core\n",
      "mpc.epn_core\n",
      "climso.epn_core\n",
      "amdadb.epn_core\n",
      "illu67p.epn_core\n",
      "transplanet.epn_core\n",
      "spicam.epn_core 118\n",
      "abs_cs.epn_core\n"
     ]
    },
    {
     "name": "stderr",
     "output_type": "stream",
     "text": [
      "WARNING: MergeConflictWarning: Cannot merge meta key 'description' types <class 'str'> and <class 'str'>, choosing description='The database contains profiles of atmospheric CO2 density and\\ntemperature derived thereof, and ozone concentration profiles, all\\nderived from the first year(s) of SPICAM UV stellar occultation\\nobservations (Forget et al. 2009, Lebonnois et al. 2006). The database\\nalso includes the full dataset of four Martian years of aerosol\\nextinction profiles from SPICAM UV solar occultations (Määttänen et\\nal. 2013).' [astropy.utils.metadata]\n"
     ]
    }
   ],
   "source": [
    "for ii in range((r1['table_name']).shape[0]):\n",
    "\tStable_name = r1['table_name'][ii]\n",
    "\tService_url = r1['access_url'][ii]\n",
    "\tquery2 = \"SELECT * FROM \" + Stable_name + \" WHERE target_name = 'Mars' and solar_longitude_min >= 30 and solar_longitude_max <= 40\"\n",
    "\tanswers = TapPlus(Service_url)\n",
    "\t# remove one uncorrect entry\n",
    "\tif r1['access_url'][ii] == 'http://vo-node1.iaps.inaf.it/tap': \n",
    "\t\tcontinue\n",
    "\t# skip the largest server\n",
    "\tif r1['access_url'][ii] == 'https://vo-pds-ppi.igpp.ucla.edu/tap': \n",
    "\t\tcontinue\n",
    "\ttry:\n",
    "\t\tjob2 = answers.launch_job(query2)\n",
    "\t\tr2 = job2.get_results()\n",
    "\t\tprint(Stable_name , r2['service_title'].shape[0] )\n",
    "\t# cumulative results\n",
    "\t\tdf = vstack([df, r2['service_title','granule_uid','time_min', 'solar_longitude_min','solar_longitude_max']], join_type='outer')\n",
    "\texcept:\n",
    "\t\tprint(Stable_name ) # a command is required"
   ]
  },
  {
   "cell_type": "code",
   "execution_count": 9,
   "id": "1b0894e8",
   "metadata": {},
   "outputs": [
    {
     "data": {
      "text/html": [
       "<div><i>Table length=3905</i>\n",
       "<table id=\"table4426514496\" class=\"table-striped table-bordered table-condensed\">\n",
       "<thead><tr><th>col0</th><th>service_title</th><th>granule_uid</th><th>time_min</th><th>solar_longitude_min</th><th>solar_longitude_max</th></tr></thead>\n",
       "<thead><tr><th></th><th></th><th></th><th>d</th><th>deg</th><th>deg</th></tr></thead>\n",
       "<thead><tr><th>object[5]</th><th>object</th><th>object</th><th>float64</th><th>float64</th><th>float64</th></tr></thead>\n",
       "<tr><td>.. 0.0</td><td>--</td><td>--</td><td>--</td><td>--</td><td>--</td></tr>\n",
       "<tr><td>-- .. --</td><td>meteor_showers</td><td>MAR_6WU_2018_MULT_0::v1.0</td><td>2458161.863194444</td><td>34.151</td><td>34.151</td></tr>\n",
       "<tr><td>-- .. --</td><td>meteor_showers</td><td>MAR_6WU_2021_MULT_0::v1.0</td><td>2459537.4125</td><td>35.389</td><td>35.389</td></tr>\n",
       "<tr><td>-- .. --</td><td>hrsc3nd</td><td>h0376_0000.nd3.09</td><td>2453133.87744213</td><td>30.15999984741211</td><td>30.15999984741211</td></tr>\n",
       "<tr><td>-- .. --</td><td>hrsc3nd</td><td>h0380_0000.nd3.12</td><td>2453135.06644676</td><td>30.700000762939453</td><td>30.700000762939453</td></tr>\n",
       "<tr><td>-- .. --</td><td>hrsc3nd</td><td>h0380_0001.nd3.11</td><td>2453135.07356481</td><td>30.700000762939453</td><td>30.700000762939453</td></tr>\n",
       "<tr><td>-- .. --</td><td>hrsc3nd</td><td>h0383_0000.nd3.09</td><td>2453135.95583333</td><td>31.110000610351562</td><td>31.110000610351562</td></tr>\n",
       "<tr><td>-- .. --</td><td>hrsc3nd</td><td>h0389_0000.nd3.11</td><td>2453137.67203704</td><td>31.889999389648438</td><td>31.889999389648438</td></tr>\n",
       "<tr><td>-- .. --</td><td>hrsc3nd</td><td>h0394_0000.nd3.07</td><td>2453139.07164352</td><td>32.529998779296875</td><td>32.529998779296875</td></tr>\n",
       "<tr><td>-- .. --</td><td>hrsc3nd</td><td>h0394_0009.nd3.07</td><td>2453139.07917824</td><td>32.540000915527344</td><td>32.540000915527344</td></tr>\n",
       "<tr><td>-- .. --</td><td>hrsc3nd</td><td>h0397_0000.nd3.08</td><td>2453139.91438657</td><td>32.91999816894531</td><td>32.91999816894531</td></tr>\n",
       "<tr><td>-- .. --</td><td>hrsc3nd</td><td>h0401_0000.nd3.14</td><td>2453141.03354167</td><td>33.43000030517578</td><td>33.43000030517578</td></tr>\n",
       "<tr><td>-- .. --</td><td>hrsc3nd</td><td>h0401_0001.nd3.14</td><td>2453141.04221065</td><td>33.43000030517578</td><td>33.43000030517578</td></tr>\n",
       "<tr><td>-- .. --</td><td>hrsc3nd</td><td>h0405_0000.nd3.10</td><td>2453142.15415509</td><td>33.939998626708984</td><td>33.939998626708984</td></tr>\n",
       "<tr><td>-- .. --</td><td>hrsc3nd</td><td>h0411_0000.nd3.09</td><td>2453143.83871528</td><td>34.70000076293945</td><td>34.70000076293945</td></tr>\n",
       "<tr><td>-- .. --</td><td>hrsc3nd</td><td>h0416_0000.nd3.09</td><td>2453145.23615741</td><td>35.33000183105469</td><td>35.33000183105469</td></tr>\n",
       "<tr><td>-- .. --</td><td>hrsc3nd</td><td>h0420_0000.nd3.08</td><td>2453146.358125</td><td>35.84000015258789</td><td>35.84000015258789</td></tr>\n",
       "<tr><td>-- .. --</td><td>hrsc3nd</td><td>h0420_0001.nd3.08</td><td>2453146.36568287</td><td>35.849998474121094</td><td>35.849998474121094</td></tr>\n",
       "<tr><td>...</td><td>...</td><td>...</td><td>...</td><td>...</td><td>...</td></tr>\n",
       "<tr><td>-- .. --</td><td>spicam</td><td>orbit0436A2_o3dens_SPICAMmeasurements</td><td>2453150.43312</td><td>37.89</td><td>37.89</td></tr>\n",
       "<tr><td>-- .. --</td><td>spicam</td><td>orbit0409A6_o3dens_SPICAMmeasurements</td><td>2453142.86246</td><td>34.47</td><td>34.47</td></tr>\n",
       "<tr><td>-- .. --</td><td>spicam</td><td>orbit0433A5_o3dens_SPICAMmeasurements</td><td>2453149.59333</td><td>37.51</td><td>37.51</td></tr>\n",
       "<tr><td>-- .. --</td><td>spicam</td><td>orbit0395A1_o3dens_SPICAMmeasurements</td><td>2453138.93386</td><td>32.68</td><td>32.68</td></tr>\n",
       "<tr><td>-- .. --</td><td>spicam</td><td>orbit0388A1_o3dens_SPICAMmeasurements</td><td>2453136.96869</td><td>31.78</td><td>31.78</td></tr>\n",
       "<tr><td>-- .. --</td><td>spicam</td><td>orbit0426A1_o3dens_SPICAMmeasurements</td><td>2453147.45563</td><td>36.55</td><td>36.55</td></tr>\n",
       "<tr><td>-- .. --</td><td>spicam</td><td>orbit0405A1_o3dens_SPICAMmeasurements</td><td>2453141.54687</td><td>33.87</td><td>33.87</td></tr>\n",
       "<tr><td>-- .. --</td><td>spicam</td><td>orbit0392A3_temp_SPICAMmeasurements</td><td>2453138.10524</td><td>32.3</td><td>32.3</td></tr>\n",
       "<tr><td>-- .. --</td><td>spicam</td><td>orbit0426A1_temp_SPICAMmeasurements</td><td>2453147.34952</td><td>36.5</td><td>36.5</td></tr>\n",
       "<tr><td>-- .. --</td><td>spicam</td><td>orbit0398A1_temp_SPICAMmeasurements</td><td>2453139.64026</td><td>33.0</td><td>33.0</td></tr>\n",
       "<tr><td>-- .. --</td><td>spicam</td><td>orbit2888A1_temp_SPICAMmeasurements</td><td>2453836.75638</td><td>37.6</td><td>37.6</td></tr>\n",
       "<tr><td>-- .. --</td><td>spicam</td><td>orbit0395A1_temp_SPICAMmeasurements</td><td>2453138.98209</td><td>32.7</td><td>32.7</td></tr>\n",
       "<tr><td>-- .. --</td><td>spicam</td><td>orbit0409A6_temp_SPICAMmeasurements</td><td>2453142.93734</td><td>34.5</td><td>34.5</td></tr>\n",
       "<tr><td>-- .. --</td><td>spicam</td><td>orbit0436A2_temp_SPICAMmeasurements</td><td>2453150.44868</td><td>37.9</td><td>37.9</td></tr>\n",
       "<tr><td>-- .. --</td><td>spicam</td><td>orbit0388A1_temp_SPICAMmeasurements</td><td>2453137.01027</td><td>31.8</td><td>31.8</td></tr>\n",
       "<tr><td>-- .. --</td><td>spicam</td><td>orbit0419A1_temp_SPICAMmeasurements</td><td>2453145.58252</td><td>35.7</td><td>35.7</td></tr>\n",
       "<tr><td>-- .. --</td><td>spicam</td><td>orbit0405A1_temp_SPICAMmeasurements</td><td>2453141.61723</td><td>33.9</td><td>33.9</td></tr>\n",
       "<tr><td>-- .. --</td><td>spicam</td><td>orbit0433A5_temp_SPICAMmeasurements</td><td>2453149.56235</td><td>37.5</td><td>37.5</td></tr>\n",
       "</table></div>"
      ],
      "text/plain": [
       "<Table length=3905>\n",
       "   col0   service_title               granule_uid                   time_min     solar_longitude_min solar_longitude_max\n",
       "                                                                       d                 deg                 deg        \n",
       "object[5]     object                     object                     float64            float64             float64      \n",
       "--------- -------------- ------------------------------------- ----------------- ------------------- -------------------\n",
       "   .. 0.0             --                                    --                --                  --                  --\n",
       " -- .. -- meteor_showers             MAR_6WU_2018_MULT_0::v1.0 2458161.863194444              34.151              34.151\n",
       " -- .. -- meteor_showers             MAR_6WU_2021_MULT_0::v1.0      2459537.4125              35.389              35.389\n",
       " -- .. --        hrsc3nd                     h0376_0000.nd3.09  2453133.87744213   30.15999984741211   30.15999984741211\n",
       " -- .. --        hrsc3nd                     h0380_0000.nd3.12  2453135.06644676  30.700000762939453  30.700000762939453\n",
       " -- .. --        hrsc3nd                     h0380_0001.nd3.11  2453135.07356481  30.700000762939453  30.700000762939453\n",
       " -- .. --        hrsc3nd                     h0383_0000.nd3.09  2453135.95583333  31.110000610351562  31.110000610351562\n",
       " -- .. --        hrsc3nd                     h0389_0000.nd3.11  2453137.67203704  31.889999389648438  31.889999389648438\n",
       " -- .. --        hrsc3nd                     h0394_0000.nd3.07  2453139.07164352  32.529998779296875  32.529998779296875\n",
       " -- .. --        hrsc3nd                     h0394_0009.nd3.07  2453139.07917824  32.540000915527344  32.540000915527344\n",
       " -- .. --        hrsc3nd                     h0397_0000.nd3.08  2453139.91438657   32.91999816894531   32.91999816894531\n",
       " -- .. --        hrsc3nd                     h0401_0000.nd3.14  2453141.03354167   33.43000030517578   33.43000030517578\n",
       " -- .. --        hrsc3nd                     h0401_0001.nd3.14  2453141.04221065   33.43000030517578   33.43000030517578\n",
       " -- .. --        hrsc3nd                     h0405_0000.nd3.10  2453142.15415509  33.939998626708984  33.939998626708984\n",
       " -- .. --        hrsc3nd                     h0411_0000.nd3.09  2453143.83871528   34.70000076293945   34.70000076293945\n",
       " -- .. --        hrsc3nd                     h0416_0000.nd3.09  2453145.23615741   35.33000183105469   35.33000183105469\n",
       " -- .. --        hrsc3nd                     h0420_0000.nd3.08    2453146.358125   35.84000015258789   35.84000015258789\n",
       " -- .. --        hrsc3nd                     h0420_0001.nd3.08  2453146.36568287  35.849998474121094  35.849998474121094\n",
       "      ...            ...                                   ...               ...                 ...                 ...\n",
       " -- .. --         spicam orbit0436A2_o3dens_SPICAMmeasurements     2453150.43312               37.89               37.89\n",
       " -- .. --         spicam orbit0409A6_o3dens_SPICAMmeasurements     2453142.86246               34.47               34.47\n",
       " -- .. --         spicam orbit0433A5_o3dens_SPICAMmeasurements     2453149.59333               37.51               37.51\n",
       " -- .. --         spicam orbit0395A1_o3dens_SPICAMmeasurements     2453138.93386               32.68               32.68\n",
       " -- .. --         spicam orbit0388A1_o3dens_SPICAMmeasurements     2453136.96869               31.78               31.78\n",
       " -- .. --         spicam orbit0426A1_o3dens_SPICAMmeasurements     2453147.45563               36.55               36.55\n",
       " -- .. --         spicam orbit0405A1_o3dens_SPICAMmeasurements     2453141.54687               33.87               33.87\n",
       " -- .. --         spicam   orbit0392A3_temp_SPICAMmeasurements     2453138.10524                32.3                32.3\n",
       " -- .. --         spicam   orbit0426A1_temp_SPICAMmeasurements     2453147.34952                36.5                36.5\n",
       " -- .. --         spicam   orbit0398A1_temp_SPICAMmeasurements     2453139.64026                33.0                33.0\n",
       " -- .. --         spicam   orbit2888A1_temp_SPICAMmeasurements     2453836.75638                37.6                37.6\n",
       " -- .. --         spicam   orbit0395A1_temp_SPICAMmeasurements     2453138.98209                32.7                32.7\n",
       " -- .. --         spicam   orbit0409A6_temp_SPICAMmeasurements     2453142.93734                34.5                34.5\n",
       " -- .. --         spicam   orbit0436A2_temp_SPICAMmeasurements     2453150.44868                37.9                37.9\n",
       " -- .. --         spicam   orbit0388A1_temp_SPICAMmeasurements     2453137.01027                31.8                31.8\n",
       " -- .. --         spicam   orbit0419A1_temp_SPICAMmeasurements     2453145.58252                35.7                35.7\n",
       " -- .. --         spicam   orbit0405A1_temp_SPICAMmeasurements     2453141.61723                33.9                33.9\n",
       " -- .. --         spicam   orbit0433A5_temp_SPICAMmeasurements     2453149.56235                37.5                37.5"
      ]
     },
     "execution_count": 9,
     "metadata": {},
     "output_type": "execute_result"
    }
   ],
   "source": [
    "df"
   ]
  },
  {
   "cell_type": "markdown",
   "id": "8e2db595",
   "metadata": {},
   "source": [
    "Then plot cumulative results"
   ]
  },
  {
   "cell_type": "code",
   "execution_count": 10,
   "id": "66f9747c",
   "metadata": {},
   "outputs": [
    {
     "data": {
      "image/png": "[encoded data removed]",
      "text/plain": [
       "<Figure size 900x300 with 1 Axes>"
      ]
     },
     "metadata": {},
     "output_type": "display_data"
    }
   ],
   "source": [
    "plt.figure(figsize=(9, 3))\n",
    "plt.xlabel('Time (JD)')\n",
    "plt.ylabel('Season (Ls in °)')\n",
    "p=plt.plot(df['time_min'], df['solar_longitude_max'], 'ro')\n",
    "p3= plt.show()\n"
   ]
  }
 ],
 "metadata": {
  "kernelspec": {
   "display_name": "Python 3 (ipykernel)",
   "language": "python",
   "name": "python3"
  },
  "language_info": {
   "codemirror_mode": {
    "name": "ipython",
    "version": 3
   },
   "file_extension": ".py",
   "mimetype": "text/x-python",
   "name": "python",
   "nbconvert_exporter": "python",
   "pygments_lexer": "ipython3",
   "version": "3.9.13"
  }
 },
 "nbformat": 4,
 "nbformat_minor": 5
}
