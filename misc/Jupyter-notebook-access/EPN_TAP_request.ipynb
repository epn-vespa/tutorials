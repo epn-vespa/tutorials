{
 "cells": [
  {
   "cell_type": "markdown",
   "id": "3bff6f22",
   "metadata": {},
   "source": [
    "## Query all EPN-TAP services"
   ]
  },
  {
   "cell_type": "markdown",
   "id": "9f0667ce",
   "metadata": {},
   "source": [
    "We show here how to send the same EPN-TAP query to all existing EPN-TAP services. This will retrieve all results from many independent services / institutes, including those unknown to the user."
   ]
  },
  {
   "cell_type": "markdown",
   "id": "2949a0d9",
   "metadata": {},
   "source": [
    "EPN-TAP services are first identified from the IVOA registry. Then the query is sent to all of them in sequence."
   ]
  },
  {
   "cell_type": "markdown",
   "id": "a554f163",
   "metadata": {},
   "source": [
    "### Grab a list of all EPN-TAP services from the registry"
   ]
  },
  {
   "cell_type": "code",
   "execution_count": 1,
   "id": "82c90a59",
   "metadata": {},
   "outputs": [],
   "source": [
    "import pyvo as vo\n",
    "from matplotlib import pyplot as plt\n",
    "from astropy.table import Table\n",
    "from astropy.table import vstack\n",
    "import urllib\n",
    "from astroquery.utils.tap.core import TapPlus  "
   ]
  },
  {
   "cell_type": "code",
   "execution_count": 2,
   "id": "d01266b6",
   "metadata": {},
   "outputs": [],
   "source": [
    "query = \"SELECT table_name, access_url, ivoid FROM (SELECT ivoid, table_name, table_utype FROM rr.res_table WHERE table_utype LIKE 'ivo://vopdc.obspm/std/epncore%' OR table_utype LIKE 'ivo://ivoa.net/std/epntap#table-2.%' OR table_utype='ivo.//vopdc.obspm/std/epncore#schema-2.0' ) AS epntables NATURAL JOIN rr.capability NATURAL JOIN rr.interface WHERE standard_id = 'ivo://ivoa.net/std/tap' AND intf_role='std'\"\n"
   ]
  },
  {
   "cell_type": "code",
   "execution_count": 3,
   "id": "779d26d2",
   "metadata": {},
   "outputs": [],
   "source": [
    "registry_url = \"http://voparis-rr.obspm.fr/tap\""
   ]
  },
  {
   "cell_type": "code",
   "execution_count": 4,
   "id": "662ef537",
   "metadata": {},
   "outputs": [
    {
     "data": {
      "text/html": [
       "<div><i>Table length=290</i>\n",
       "<table id=\"table5877883280\" class=\"table-striped table-bordered table-condensed\">\n",
       "<thead><tr><th>table_name</th><th>access_url</th><th>ivoid</th></tr></thead>\n",
       "<thead><tr><th>object</th><th>object</th><th>object</th></tr></thead>\n",
       "<tr><td>thmsm.epn_core</td><td>http://dorotka.ufa.cas.cz//tap</td><td>ivo://iap/tap</td></tr>\n",
       "<tr><td>cpstasm.epn_core</td><td>http://dorotka.ufa.cas.cz//tap</td><td>ivo://iap/tap</td></tr>\n",
       "<tr><td>soir.epn_core</td><td>http://vespa-ae.oma.be/tap</td><td>ivo://bira-iasb/tap</td></tr>\n",
       "<tr><td>nomad.epn_core</td><td>http://vespa-ae.oma.be/tap</td><td>ivo://bira-iasb/tap</td></tr>\n",
       "<tr><td>gem_mars.epn_core</td><td>http://vespa-ae.oma.be/tap</td><td>ivo://bira-iasb/tap</td></tr>\n",
       "<tr><td>parsec.epn_core</td><td>http://parsec-europlanet.eu:81/tap</td><td>ivo://aoi.amu.parsec/tap</td></tr>\n",
       "<tr><td>lars.epn_core</td><td>http://dachs.sdc.leibniz-kis.de/tap</td><td>ivo://leibniz-kis/tap</td></tr>\n",
       "<tr><td>gris.epn_core</td><td>http://dachs.sdc.leibniz-kis.de/tap</td><td>ivo://leibniz-kis/tap</td></tr>\n",
       "<tr><td>chrotel.epn_core</td><td>http://dachs.sdc.leibniz-kis.de/tap</td><td>ivo://leibniz-kis/tap</td></tr>\n",
       "<tr><td>...</td><td>...</td><td>...</td></tr>\n",
       "<tr><td>vir.epn_core</td><td>http://vo-node1.iaps.inaf.it/tap</td><td>ivo://ia2.inaf.it/iaps/tap</td></tr>\n",
       "<tr><td>ndcs.epn_core</td><td>http://vo-node1.iaps.inaf.it/tap</td><td>ivo://ia2.inaf.it/iaps/tap</td></tr>\n",
       "<tr><td>cemls.epn_core</td><td>http://vo-node1.iaps.inaf.it/tap</td><td>ivo://ia2.inaf.it/iaps/tap</td></tr>\n",
       "<tr><td>amdadb.epn_core</td><td>http://cdpp-epntap.irap.omp.eu/__system__/tap/run/tap</td><td>ivo://cdpp/amda</td></tr>\n",
       "<tr><td>illu67p.epn_core</td><td>http://cdpp-epntap.irap.omp.eu/__system__/tap/run/tap</td><td>ivo://cdpp/illu67p</td></tr>\n",
       "<tr><td>transplanet.epn_core</td><td>http://cdpp-epntap.irap.omp.eu/__system__/tap/run/tap</td><td>ivo://cdpp/transplanet</td></tr>\n",
       "<tr><td>mp3c_best_epn.epn_core</td><td>https://dachs.oca.eu/tap</td><td>ivo://oca/tap</td></tr>\n",
       "<tr><td>climso.epn_core</td><td>https://epntap.climso.ovgso.fr/tap</td><td>ivo://ov-gso/climso</td></tr>\n",
       "<tr><td>spicam.epn_core</td><td>http://vo.projet.latmos.ipsl.fr/tap</td><td>ivo://latmos.ipsl/tap</td></tr>\n",
       "<tr><td>abs_cs.epn_core</td><td>http://spectrum.iaa.es/tap</td><td>ivo://spectrum.iaa/tap</td></tr>\n",
       "</table></div>"
      ],
      "text/plain": [
       "<Table length=290>\n",
       "      table_name       ...           ivoid           \n",
       "        object         ...           object          \n",
       "---------------------- ... --------------------------\n",
       "        thmsm.epn_core ...              ivo://iap/tap\n",
       "      cpstasm.epn_core ...              ivo://iap/tap\n",
       "         soir.epn_core ...        ivo://bira-iasb/tap\n",
       "        nomad.epn_core ...        ivo://bira-iasb/tap\n",
       "     gem_mars.epn_core ...        ivo://bira-iasb/tap\n",
       "       parsec.epn_core ...   ivo://aoi.amu.parsec/tap\n",
       "         lars.epn_core ...      ivo://leibniz-kis/tap\n",
       "         gris.epn_core ...      ivo://leibniz-kis/tap\n",
       "      chrotel.epn_core ...      ivo://leibniz-kis/tap\n",
       "                   ... ...                        ...\n",
       "          vir.epn_core ... ivo://ia2.inaf.it/iaps/tap\n",
       "         ndcs.epn_core ... ivo://ia2.inaf.it/iaps/tap\n",
       "        cemls.epn_core ... ivo://ia2.inaf.it/iaps/tap\n",
       "       amdadb.epn_core ...            ivo://cdpp/amda\n",
       "      illu67p.epn_core ...         ivo://cdpp/illu67p\n",
       "  transplanet.epn_core ...     ivo://cdpp/transplanet\n",
       "mp3c_best_epn.epn_core ...              ivo://oca/tap\n",
       "       climso.epn_core ...        ivo://ov-gso/climso\n",
       "       spicam.epn_core ...      ivo://latmos.ipsl/tap\n",
       "       abs_cs.epn_core ...     ivo://spectrum.iaa/tap"
      ]
     },
     "execution_count": 4,
     "metadata": {},
     "output_type": "execute_result"
    }
   ],
   "source": [
    "services = TapPlus(url=registry_url)\n",
    "job = services.launch_job(query)\n",
    "r1 = job.get_results()\n",
    "# lists all published EPN-TAP services:\n",
    "r1\n"
   ]
  },
  {
   "cell_type": "markdown",
   "id": "8fb09a31",
   "metadata": {},
   "source": [
    "**This lists the available services; table name and server url are printed for the first entry**"
   ]
  },
  {
   "cell_type": "code",
   "execution_count": 5,
   "id": "b1aeebb7",
   "metadata": {},
   "outputs": [
    {
     "name": "stdout",
     "output_type": "stream",
     "text": [
      "             table_name            \n",
      "-----------------------------------\n",
      "                     thmsm.epn_core\n",
      "                   cpstasm.epn_core\n",
      "                      soir.epn_core\n",
      "                     nomad.epn_core\n",
      "                  gem_mars.epn_core\n",
      "                    parsec.epn_core\n",
      "                      lars.epn_core\n",
      "                      gris.epn_core\n",
      "                   chrotel.epn_core\n",
      "pl610_dynamic_spectra_vira.epn_core\n",
      "                                ...\n",
      "                       vir.epn_core\n",
      "                      ndcs.epn_core\n",
      "                     cemls.epn_core\n",
      "                    amdadb.epn_core\n",
      "                   illu67p.epn_core\n",
      "               transplanet.epn_core\n",
      "             mp3c_best_epn.epn_core\n",
      "                    climso.epn_core\n",
      "                    spicam.epn_core\n",
      "                    abs_cs.epn_core\n",
      "Length = 290 rows\n",
      "thmsm.epn_core\n",
      "http://dorotka.ufa.cas.cz//tap\n"
     ]
    }
   ],
   "source": [
    "# accessing elt: \n",
    "print(r1['table_name'])\n",
    "print(r1['table_name'][0])\n",
    "print(r1['access_url'][0])\n"
   ]
  },
  {
   "cell_type": "markdown",
   "id": "decc550b",
   "metadata": {},
   "source": [
    "### Sending a simple query to all services"
   ]
  },
  {
   "cell_type": "markdown",
   "id": "7409fabf",
   "metadata": {},
   "source": [
    "Here we're looking for values of an optional parameter. This will just print the table name if the parameter is not provided, or the number of values otherwise."
   ]
  },
  {
   "cell_type": "markdown",
   "id": "dd193450",
   "metadata": {},
   "source": [
    "**The query is a bit long to execute, due to the large number of EPN-TAP services published in the registry (in January 2024)**"
   ]
  },
  {
   "cell_type": "code",
   "execution_count": 6,
   "id": "8c5b5cab",
   "metadata": {},
   "outputs": [
    {
     "name": "stdout",
     "output_type": "stream",
     "text": [
      "thmsm.epn_core\n",
      "cpstasm.epn_core\n",
      "parsec.epn_core\n",
      "pl610_dynamic_spectra_vira.epn_core\n",
      "pl610_dynamic_spectra_taua.epn_core\n",
      "pl610_dynamic_spectra_sun.epn_core\n",
      "pl610_dynamic_spectra_jupiter.epn_core\n",
      "pl610_dynamic_spectra_cyga.epn_core\n",
      "pl610_dynamic_spectra_casa.epn_core\n",
      "pl610_dynamic_spectra.epn_core\n",
      "nqmaps.epn_core\n",
      "iriwarsaw.epn_core\n",
      "ionosondes.epn_core\n",
      "h2tecmaps.epn_core\n",
      "hrsc3nd.epn_core\n",
      "sbnaf.epn_core\n",
      "mdisc.epn_core\n",
      "jasmin.epn_core\n",
      "omega_maps.epn_core\n",
      "omega_cubes.epn_core\n",
      "eit_syn.epn_core\n",
      "vcd.epn_core\n",
      "mcd.epn_core\n",
      "mars_dust.epn_core\n",
      "usgs_wms.epn_core\n",
      "planmap.epn_core\n",
      "planetserver_crism.epn_core\n",
      "mars_craters_lagain.epn_core\n",
      "mars_craters.epn_core\n",
      "tfcat.epn_core\n",
      "cassini_rpws.epn_core\n",
      "cassini_jupiter.epn_core\n",
      "hfc1t3.epn_core\n",
      "bass2000.epn_core\n",
      "pretharsis.epn_core\n",
      "exotopo.epn_core\n",
      "mp3c_best_epn.epn_core\n",
      "pvol.epn_core\n",
      "uset_sunspot_group.epn_core\n",
      "uset_sunspot_drawing.epn_core\n",
      "vvex.epn_core\n",
      "vims_satellites.epn_core\n",
      "venus_craters.epn_core\n",
      "usgs_wms.epn_core\n",
      "tnosarecool.epn_core\n",
      "titan_profiles.epn_core\n",
      "spectro_stars.epn_core\n",
      "spectro_planets.epn_core\n",
      "spectro_asteroids.epn_core\n",
      "planets.epn_core\n",
      "moonsprop.epn_core\n",
      "meteor_showers.epn_core\n",
      "mercury_craters.epn_core\n",
      "mars_craters_lagain.epn_core\n",
      "mars_craters.epn_core\n",
      "m4ast.epn_core\n",
      "lunar_craters.epn_core\n",
      "iks.epn_core\n",
      "hst_planeto.epn_core\n",
      "gmap.epn_core\n",
      "exoplanet.epn_core\n",
      "dynastvo.epn_core\n",
      "crism_speclib.epn_core\n",
      "bdip.epn_core\n",
      "basecom.epn_core\n",
      "apis.epn_core\n",
      "mpc.epn_core\n",
      "amdadb.epn_core\n",
      "illu67p.epn_core\n",
      "transplanet.epn_core\n",
      "mp3c_best_epn.epn_core\n",
      "climso.epn_core\n",
      "spicam.epn_core\n",
      "abs_cs.epn_core\n"
     ]
    }
   ],
   "source": [
    "for ii in range((r1['table_name']).shape[0]):\n",
    "\tStable_name = r1['table_name'][ii]\n",
    "\tService_url = r1['access_url'][ii]\n",
    "\tquery2 = \"SELECT distinct spatial_origin FROM \" + Stable_name\n",
    "\tanswers = TapPlus(url=Service_url)\n",
    "\t# remove one uncorrect entry\n",
    "\tif r1['access_url'][ii] == 'http://vo-node1.iaps.inaf.it/tap': \n",
    "\t\tcontinue\n",
    "\t# skip the largest server\n",
    "\tif r1['access_url'][ii] == 'https://vo-pds-ppi.igpp.ucla.edu/tap': \n",
    "\t\tcontinue\n",
    "\ttry:\n",
    "\t\tjob2 = answers.launch_job(query2)\n",
    "\t\tr2 = job2.get_results()\n",
    "\t\tStable_name, r2[0][0]\n",
    "\texcept:\n",
    "\t\tprint(Stable_name) # command required here\n"
   ]
  },
  {
   "cell_type": "markdown",
   "id": "239cb42d",
   "metadata": {},
   "source": [
    "### Sending a more realistic query to all services"
   ]
  },
  {
   "cell_type": "code",
   "execution_count": 7,
   "id": "268c6fe5",
   "metadata": {},
   "outputs": [],
   "source": [
    "# first define a result table \n",
    "# actually doesn't work - all grouped in first column later\n",
    "d = {\n",
    "    'service_title': [''],\n",
    "    'granule_uid': [''],\n",
    "    'time_min': [0.],\n",
    "    'solar_longitude_min': [0.],\n",
    "    'solar_longitude_max': [0.]\n",
    "}\n",
    "import pandas as pd\n",
    "df = pd.DataFrame(d)"
   ]
  },
  {
   "cell_type": "markdown",
   "id": "01446a07",
   "metadata": {},
   "source": [
    "Then sends a more realistic query to all services and concatenate results - we're asking for any data during a specific season on Mars, whatever the year"
   ]
  },
  {
   "cell_type": "code",
   "execution_count": 8,
   "id": "a9b15fa1",
   "metadata": {},
   "outputs": [
    {
     "name": "stdout",
     "output_type": "stream",
     "text": [
      "thmsm.epn_core\n",
      "cpstasm.epn_core\n",
      "soir.epn_core 0\n",
      "nomad.epn_core 371\n",
      "gem_mars.epn_core 2000\n",
      "parsec.epn_core\n",
      "lars.epn_core\n",
      "gris.epn_core\n",
      "chrotel.epn_core\n",
      "pl610_dynamic_spectra_vira.epn_core\n",
      "pl610_dynamic_spectra_taua.epn_core\n",
      "pl610_dynamic_spectra_sun.epn_core\n",
      "pl610_dynamic_spectra_jupiter.epn_core\n",
      "pl610_dynamic_spectra_cyga.epn_core\n",
      "pl610_dynamic_spectra_casa.epn_core\n",
      "pl610_dynamic_spectra.epn_core\n",
      "nqmaps.epn_core\n",
      "iriwarsaw.epn_core\n",
      "ionosondes.epn_core\n",
      "h2tecmaps.epn_core\n",
      "hrsc3nd.epn_core 169\n",
      "sbnaf.epn_core\n",
      "mdisc.epn_core\n"
     ]
    },
    {
     "name": "stderr",
     "output_type": "stream",
     "text": [
      "WARNING: MergeConflictWarning: In merged column 'granule_uid' the 'description' attribute does not match (Internal table row index, which must be unique within the table. Can be alphanumeric. != Internal table row index Unique ID in data service, also in v2. Can be alphanumeric.).  Using Internal table row index Unique ID in data service, also in v2. Can be alphanumeric. for merged output [astropy.utils.metadata.merge]\n",
      "WARNING: MergeConflictWarning: Cannot merge meta key 'ucd' types <class 'str'> and <class 'str'>, choosing ucd='time.start' [astropy.utils.metadata.merge]\n",
      "WARNING: MergeConflictWarning: In merged column 'time_min' the 'description' attribute does not match (Acquisition start time (in JD), as UTC at time_refposition != Acquisition start time (in JD)).  Using Acquisition start time (in JD) for merged output [astropy.utils.metadata.merge]\n",
      "WARNING: MergeConflictWarning: In merged column 'solar_longitude_min' the 'description' attribute does not match (Min Solar longitude Ls (location on orbit / season) != Solar longitude (minimum)).  Using Solar longitude (minimum) for merged output [astropy.utils.metadata.merge]\n",
      "WARNING: MergeConflictWarning: In merged column 'solar_longitude_max' the 'description' attribute does not match (Max Solar longitude Ls (location on orbit / season) != Solar longitude (maximum)).  Using Solar longitude (maximum) for merged output [astropy.utils.metadata.merge]\n",
      "WARNING: MergeConflictWarning: Cannot merge meta key 'utype' types <class 'str'> and <class 'str'>, choosing utype='ivo://vopdc.obspm/std/epncore#schema-2.0' [astropy.utils.metadata.merge]\n"
     ]
    },
    {
     "name": "stdout",
     "output_type": "stream",
     "text": [
      "jasmin.epn_core\n",
      "omega_maps.epn_core\n",
      "omega_cubes.epn_core\n",
      "gaia_dem.epn_core\n",
      "eit_syn.epn_core\n",
      "vcd.epn_core\n",
      "mcd.epn_core 0\n",
      "mars_dust.epn_core\n"
     ]
    },
    {
     "name": "stderr",
     "output_type": "stream",
     "text": [
      "WARNING: MergeConflictWarning: In merged column 'granule_uid' the 'description' attribute does not match (Internal table row index Unique ID in data service, also in v2. Can be alphanumeric. != Internal table row index, which must be unique within the table. Can be alphanumeric.).  Using Internal table row index, which must be unique within the table. Can be alphanumeric. for merged output [astropy.utils.metadata.merge]\n",
      "WARNING: MergeConflictWarning: Cannot merge meta key 'ucd' types <class 'str'> and <class 'str'>, choosing ucd='time.start;obs' [astropy.utils.metadata.merge]\n",
      "WARNING: MergeConflictWarning: In merged column 'time_min' the 'description' attribute does not match (Acquisition start time (in JD) != Acquisition start time (in JD), as UTC at time_refposition).  Using Acquisition start time (in JD), as UTC at time_refposition for merged output [astropy.utils.metadata.merge]\n",
      "WARNING: MergeConflictWarning: In merged column 'solar_longitude_min' the 'description' attribute does not match (Solar longitude (minimum) != Min Solar longitude Ls (location on orbit / season)).  Using Min Solar longitude Ls (location on orbit / season) for merged output [astropy.utils.metadata.merge]\n",
      "WARNING: MergeConflictWarning: In merged column 'solar_longitude_max' the 'description' attribute does not match (Solar longitude (maximum) != Max Solar longitude Ls (location on orbit / season)).  Using Max Solar longitude Ls (location on orbit / season) for merged output [astropy.utils.metadata.merge]\n",
      "WARNING: MergeConflictWarning: Cannot merge meta key 'utype' types <class 'str'> and <class 'str'>, choosing utype='ivo://ivoa.net/std/epntap#table-2.0' [astropy.utils.metadata.merge]\n",
      "WARNING: MergeConflictWarning: Cannot merge meta key 'description' types <class 'str'> and <class 'str'>, choosing description='The database contains some outputs of the MCD for all the scenarios\\navailable, at different positions of latitude and longitude. These MCD\\noutputs are provided as Votables containing profiles of temperatures,\\npressures, density and abundances of O2 and O3 for altitudes between 0\\nand 249.5 km from the surface.' [astropy.utils.metadata.merge]\n"
     ]
    },
    {
     "name": "stdout",
     "output_type": "stream",
     "text": [
      "usgs_wms.epn_core\n",
      "planmap.epn_core\n",
      "planetserver_crism.epn_core\n",
      "mars_craters_lagain.epn_core\n",
      "mars_craters.epn_core\n",
      "tfcat.epn_core\n",
      "cassini_rpws.epn_core\n",
      "cassini_jupiter.epn_core\n",
      "hfc1t3.epn_core\n",
      "hfc1ar.epn_core\n",
      "bass2000.epn_core\n",
      "pretharsis.epn_core\n",
      "exotopo.epn_core\n",
      "mp3c_best_epn.epn_core\n",
      "pvol.epn_core\n",
      "uset_sunspot_group.epn_core\n",
      "uset_sunspot_drawing.epn_core\n",
      "rob_spoca_ch.epn_core\n",
      "vvex.epn_core 0\n"
     ]
    },
    {
     "name": "stderr",
     "output_type": "stream",
     "text": [
      "WARNING: MergeConflictWarning: Cannot merge meta key 'description' types <class 'str'> and <class 'str'>, choosing description='IR spectroscopy of Venus' [astropy.utils.metadata.merge]\n"
     ]
    },
    {
     "name": "stdout",
     "output_type": "stream",
     "text": [
      "voccdb.epn_core\n",
      "vims_satellites.epn_core\n",
      "venus_craters.epn_core\n",
      "usgs_wms.epn_core\n",
      "tnosarecool.epn_core\n",
      "titan_profiles.epn_core\n",
      "spectro_stars.epn_core\n",
      "spectro_planets.epn_core\n",
      "spectro_asteroids.epn_core\n",
      "planets.epn_core\n",
      "moonsprop.epn_core\n",
      "meteor_showers.epn_core 2\n",
      "mercury_craters.epn_core\n",
      "mars_craters_lagain.epn_core\n",
      "mars_craters.epn_core\n",
      "m4ast.epn_core\n",
      "lunar_craters.epn_core\n",
      "iks.epn_core\n",
      "hst_planeto.epn_core\n",
      "gmap.epn_core\n",
      "exoplanet.epn_core\n",
      "dynastvo.epn_core\n",
      "crism_speclib.epn_core\n",
      "bdip.epn_core\n",
      "basecom.epn_core\n",
      "apis.epn_core\n",
      "mpc.epn_core\n",
      "amdadb.epn_core\n",
      "illu67p.epn_core\n",
      "transplanet.epn_core\n",
      "mp3c_best_epn.epn_core\n",
      "climso.epn_core\n",
      "spicam.epn_core 118\n",
      "abs_cs.epn_core\n"
     ]
    },
    {
     "name": "stderr",
     "output_type": "stream",
     "text": [
      "WARNING: MergeConflictWarning: Cannot merge meta key 'description' types <class 'str'> and <class 'str'>, choosing description='The database contains profiles of atmospheric CO2 density and\\ntemperature derived thereof, and ozone concentration profiles, all\\nderived from the first year(s) of SPICAM UV stellar occultation\\nobservations (Forget et al. 2009, Lebonnois et al. 2006). The database\\nalso includes the full dataset of four Martian years of aerosol\\nextinction profiles from SPICAM UV solar occultations (Määttänen et\\nal. 2013).' [astropy.utils.metadata.merge]\n"
     ]
    }
   ],
   "source": [
    "for ii in range((r1['table_name']).shape[0]):\n",
    "\tStable_name = r1['table_name'][ii]\n",
    "\tService_url = r1['access_url'][ii]\n",
    "\tquery2 = \"SELECT * FROM \" + Stable_name + \" WHERE target_name = 'Mars' and solar_longitude_min >= 30 and solar_longitude_max <= 40\"\n",
    "\tanswers = TapPlus(url=Service_url)\n",
    "\t# remove one uncorrect entry\n",
    "\tif r1['access_url'][ii] == 'http://vo-node1.iaps.inaf.it/tap': \n",
    "\t\tcontinue\n",
    "\t# skip the largest server\n",
    "\tif r1['access_url'][ii] == 'https://vo-pds-ppi.igpp.ucla.edu/tap': \n",
    "\t\tcontinue\n",
    "\ttry:\n",
    "\t\tjob2 = answers.launch_job(query2)\n",
    "\t\tr2 = job2.get_results()\n",
    "\t\tprint(Stable_name , r2['service_title'].shape[0] )\n",
    "\t# cumulative results\n",
    "\t\tdf = vstack([df, r2['service_title','granule_uid','time_min', 'solar_longitude_min','solar_longitude_max']], join_type='outer')\n",
    "\texcept:\n",
    "\t\tprint(Stable_name ) # a command is required"
   ]
  },
  {
   "cell_type": "code",
   "execution_count": 9,
   "id": "1b0894e8",
   "metadata": {},
   "outputs": [
    {
     "data": {
      "text/html": [
       "<div><i>Table length=2661</i>\n",
       "<table id=\"table6064049232\" class=\"table-striped table-bordered table-condensed\">\n",
       "<thead><tr><th>col0</th><th>service_title</th><th>granule_uid</th><th>time_min</th><th>solar_longitude_min</th><th>solar_longitude_max</th></tr></thead>\n",
       "<thead><tr><th></th><th></th><th></th><th>d</th><th>deg</th><th>deg</th></tr></thead>\n",
       "<thead><tr><th>object[5]</th><th>object</th><th>object</th><th>float64</th><th>float64</th><th>float64</th></tr></thead>\n",
       "<tr><td>.. 0.0</td><td>--</td><td>--</td><td>--</td><td>--</td><td>--</td></tr>\n",
       "<tr><td>-- .. --</td><td>nomad</td><td>20190526_141013_2p0a_SO_A_I_148_co2.xml</td><td>2458630.0904282406</td><td>30.5999</td><td>30.5999</td></tr>\n",
       "<tr><td>-- .. --</td><td>nomad</td><td>20190527_015725_2p0a_SO_A_I_148_co2.xml</td><td>2458630.581539352</td><td>30.8249</td><td>30.8249</td></tr>\n",
       "<tr><td>-- .. --</td><td>nomad</td><td>20190528_100629_2p0a_SO_A_E_148_co2.xml</td><td>2458631.9211689816</td><td>31.4383</td><td>31.4383</td></tr>\n",
       "<tr><td>-- .. --</td><td>nomad</td><td>20190601_014746_2p0a_SO_A_I_148_co2.xml</td><td>2458635.574837963</td><td>33.1062</td><td>33.1062</td></tr>\n",
       "<tr><td>-- .. --</td><td>nomad</td><td>20190603_084814_2p0a_SO_A_I_148_co2.xml</td><td>2458637.866828704</td><td>34.1496</td><td>34.1496</td></tr>\n",
       "<tr><td>-- .. --</td><td>nomad</td><td>20190604_121820_2p0a_SO_A_I_148_co2.xml</td><td>2458639.0127314813</td><td>34.6704</td><td>34.6704</td></tr>\n",
       "<tr><td>-- .. --</td><td>nomad</td><td>20190605_115245_2p0a_SO_A_I_148_co2.xml</td><td>2458639.9949652776</td><td>35.1163</td><td>35.1163</td></tr>\n",
       "<tr><td>-- .. --</td><td>nomad</td><td>20190607_055245_2p0a_SO_A_E_148_co2.xml</td><td>2458641.7449652776</td><td>35.91</td><td>35.91</td></tr>\n",
       "<tr><td>...</td><td>...</td><td>...</td><td>...</td><td>...</td><td>...</td></tr>\n",
       "<tr><td>-- .. --</td><td>spicam</td><td>orbit0398A1_temp_SPICAMmeasurements</td><td>2453139.64026</td><td>33.0</td><td>33.0</td></tr>\n",
       "<tr><td>-- .. --</td><td>spicam</td><td>orbit2888A1_temp_SPICAMmeasurements</td><td>2453836.75638</td><td>37.6</td><td>37.6</td></tr>\n",
       "<tr><td>-- .. --</td><td>spicam</td><td>orbit0395A1_temp_SPICAMmeasurements</td><td>2453138.98209</td><td>32.7</td><td>32.7</td></tr>\n",
       "<tr><td>-- .. --</td><td>spicam</td><td>orbit0409A6_temp_SPICAMmeasurements</td><td>2453142.93734</td><td>34.5</td><td>34.5</td></tr>\n",
       "<tr><td>-- .. --</td><td>spicam</td><td>orbit0436A2_temp_SPICAMmeasurements</td><td>2453150.44868</td><td>37.9</td><td>37.9</td></tr>\n",
       "<tr><td>-- .. --</td><td>spicam</td><td>orbit0388A1_temp_SPICAMmeasurements</td><td>2453137.01027</td><td>31.8</td><td>31.8</td></tr>\n",
       "<tr><td>-- .. --</td><td>spicam</td><td>orbit0419A1_temp_SPICAMmeasurements</td><td>2453145.58252</td><td>35.7</td><td>35.7</td></tr>\n",
       "<tr><td>-- .. --</td><td>spicam</td><td>orbit0405A1_temp_SPICAMmeasurements</td><td>2453141.61723</td><td>33.9</td><td>33.9</td></tr>\n",
       "<tr><td>-- .. --</td><td>spicam</td><td>orbit0433A5_temp_SPICAMmeasurements</td><td>2453149.56235</td><td>37.5</td><td>37.5</td></tr>\n",
       "</table></div>"
      ],
      "text/plain": [
       "<Table length=2661>\n",
       "   col0   service_title ... solar_longitude_min solar_longitude_max\n",
       "                        ...         deg                 deg        \n",
       "object[5]     object    ...       float64             float64      \n",
       "--------- ------------- ... ------------------- -------------------\n",
       "   .. 0.0            -- ...                  --                  --\n",
       " -- .. --         nomad ...             30.5999             30.5999\n",
       " -- .. --         nomad ...             30.8249             30.8249\n",
       " -- .. --         nomad ...             31.4383             31.4383\n",
       " -- .. --         nomad ...             33.1062             33.1062\n",
       " -- .. --         nomad ...             34.1496             34.1496\n",
       " -- .. --         nomad ...             34.6704             34.6704\n",
       " -- .. --         nomad ...             35.1163             35.1163\n",
       " -- .. --         nomad ...               35.91               35.91\n",
       "      ...           ... ...                 ...                 ...\n",
       " -- .. --        spicam ...                33.0                33.0\n",
       " -- .. --        spicam ...                37.6                37.6\n",
       " -- .. --        spicam ...                32.7                32.7\n",
       " -- .. --        spicam ...                34.5                34.5\n",
       " -- .. --        spicam ...                37.9                37.9\n",
       " -- .. --        spicam ...                31.8                31.8\n",
       " -- .. --        spicam ...                35.7                35.7\n",
       " -- .. --        spicam ...                33.9                33.9\n",
       " -- .. --        spicam ...                37.5                37.5"
      ]
     },
     "execution_count": 9,
     "metadata": {},
     "output_type": "execute_result"
    }
   ],
   "source": [
    "df"
   ]
  },
  {
   "cell_type": "markdown",
   "id": "8e2db595",
   "metadata": {},
   "source": [
    "Then plot cumulative results"
   ]
  },
  {
   "cell_type": "code",
   "execution_count": 10,
   "id": "66f9747c",
   "metadata": {},
   "outputs": [
    {
     "data": {
      "image/png": "[encoded data removed]",
      "text/plain": [
       "<Figure size 900x300 with 1 Axes>"
      ]
     },
     "metadata": {},
     "output_type": "display_data"
    }
   ],
   "source": [
    "plt.figure(figsize=(9, 3))\n",
    "plt.xlabel('Time (JD)')\n",
    "plt.ylabel('Season (Ls in °)')\n",
    "p=plt.plot(df['time_min'], df['solar_longitude_max'], 'ro')\n",
    "p3= plt.show()\n"
   ]
  },
  {
   "cell_type": "code",
   "execution_count": null,
   "id": "f88304c6-1edb-48c4-a94a-35a9054a0cfb",
   "metadata": {},
   "outputs": [],
   "source": []
  }
 ],
 "metadata": {
  "kernelspec": {
   "display_name": "Python 3 (ipykernel)",
   "language": "python",
   "name": "python3"
  },
  "language_info": {
   "codemirror_mode": {
    "name": "ipython",
    "version": 3
   },
   "file_extension": ".py",
   "mimetype": "text/x-python",
   "name": "python",
   "nbconvert_exporter": "python",
   "pygments_lexer": "ipython3",
   "version": "3.11.9"
  }
 },
 "nbformat": 4,
 "nbformat_minor": 5
}
